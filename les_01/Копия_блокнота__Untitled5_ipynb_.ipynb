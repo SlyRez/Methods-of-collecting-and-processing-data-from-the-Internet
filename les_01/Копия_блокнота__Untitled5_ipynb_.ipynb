{
  "nbformat": 4,
  "nbformat_minor": 0,
  "metadata": {
    "colab": {
      "name": "Копия блокнота \"Untitled5.ipynb\"",
      "provenance": []
    },
    "kernelspec": {
      "name": "python3",
      "display_name": "Python 3"
    },
    "language_info": {
      "name": "python"
    }
  },
  "cells": [
    {
      "cell_type": "markdown",
      "metadata": {
        "id": "JTPxpi7SPoIM"
      },
      "source": [
        "1. Посмотреть документацию к API GitHub, разобраться как вывести список репозиториев для конкретного пользователя, сохранить JSON-вывод в файле *.json."
      ]
    },
    {
      "cell_type": "code",
      "metadata": {
        "id": "l9DUn7m6ArHZ"
      },
      "source": [
        "import requests\n",
        "import json"
      ],
      "execution_count": null,
      "outputs": []
    },
    {
      "cell_type": "code",
      "metadata": {
        "id": "wl3G_Y0ZOW45"
      },
      "source": [
        "url = 'https://api.github.com'\n",
        "user='SlyRez'"
      ],
      "execution_count": null,
      "outputs": []
    },
    {
      "cell_type": "code",
      "metadata": {
        "id": "D3ihgszVO6B-"
      },
      "source": [
        "my_request = requests.get(f'{url}/users/{user}/repos')"
      ],
      "execution_count": null,
      "outputs": []
    },
    {
      "cell_type": "code",
      "metadata": {
        "id": "7JyrkI5SO-MR"
      },
      "source": [
        "with open('data.json', 'w') as my_repos:\n",
        "    json.dump(my_request.json(), my_repos)"
      ],
      "execution_count": null,
      "outputs": []
    },
    {
      "cell_type": "code",
      "metadata": {
        "colab": {
          "base_uri": "https://localhost:8080/"
        },
        "id": "uEteeW4kPAOW",
        "outputId": "14ac58c8-22b0-43ed-eb62-a318d22ced64"
      },
      "source": [
        "for i in my_request.json():\n",
        "    print(i['name'])"
      ],
      "execution_count": null,
      "outputs": [
        {
          "output_type": "stream",
          "name": "stdout",
          "text": [
            "format-README\n",
            "gb-Linux\n",
            "GB-Python-\n",
            "lessonsql\n",
            "Python_Data_Science\n",
            "Python_Data_Science_2\n",
            "sqlStudy\n"
          ]
        }
      ]
    },
    {
      "cell_type": "markdown",
      "metadata": {
        "id": "Y_tW3SmAP4b8"
      },
      "source": [
        "2. Изучить список открытых API (https://www.programmableweb.com/category/all/apis). Найти среди них любое, требующее авторизацию (любого типа). Выполнить запросы к нему, пройдя авторизацию. Ответ сервера записать в файл."
      ]
    },
    {
      "cell_type": "markdown",
      "metadata": {
        "id": "pnVbavI9HdlW"
      },
      "source": [
        "Решил попытаться настроить взаимодействие с сервером игры EVE ONLINE. Сам в ней провел пару часов наверное, так что интерес скорее спортивный, но мало ли)\n",
        "https://esi.evetech.net/ui/#/Market\n",
        "либо не разобрался как работает это все дело, лио не актуальная система, не понял на какой сайт отправлять запросы сформированные...\n",
        "Пытался потом с  яндекс api разобраться, там как понял что б ы токен получить зарегать приложение....в общем очень много времени потратил и увы в пустую( ну хоть первое задание кадется понял как делать. \n",
        "Прошу не судить строго =("
      ]
    },
    {
      "cell_type": "code",
      "metadata": {
        "id": "QQtOVY1UBJum"
      },
      "source": [
        "url = 'http://api.eve-central.com'\n",
        "token = ''\n",
        "user = ''"
      ],
      "execution_count": null,
      "outputs": []
    },
    {
      "cell_type": "code",
      "metadata": {
        "id": "VX_PUIY8Bces"
      },
      "source": [
        "r = requests.get(f'{url}/api/{user}/repos')\n"
      ],
      "execution_count": null,
      "outputs": []
    }
  ]
}